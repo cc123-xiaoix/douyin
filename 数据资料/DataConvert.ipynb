{
 "cells": [
  {
   "cell_type": "code",
   "execution_count": 70,
   "id": "5b9283e4",
   "metadata": {},
   "outputs": [],
   "source": [
    "import csv\n",
    "import pandas as pd\n",
    "import numpy as np"
   ]
  },
  {
   "cell_type": "code",
   "execution_count": 78,
   "id": "725afbbc",
   "metadata": {},
   "outputs": [],
   "source": [
    "# 处理原始数据，把累计指标转化为采样区间内指标\n",
    "def Convert2Interval(advertiser_name, class_id):\n",
    "    fileLoc = \"Data/task_data/\" + advertiser_name + \".csv\"\n",
    "    df = pd.read_csv(fileLoc, index_col=0)\n",
    "    ad_id_list = df['ad_id'].unique()\n",
    "#     print(ad_id_list)\n",
    "    for ad_id in ad_id_list:\n",
    "        select = df[(df['ad_id'] == ad_id)]\n",
    "#         print(select)\n",
    "        row = select.shape[0]\n",
    "        for i in range(row):\n",
    "            row_id = select[i:i+1].index.tolist()[0]\n",
    "            if i == row-1:\n",
    "                df.drop(row_id, inplace=True)\n",
    "                continue\n",
    "            select.iat[i, 3] = select.iat[i+1, 3] - select.iat[i, 3]\n",
    "            select.iat[i, 4] = select.iat[i+1, 4] - select.iat[i, 4]\n",
    "            select.iat[i, 7] = select.iat[i+1, 7] - select.iat[i, 7]\n",
    "            select.iat[i, 8] = select.iat[i+1, 8] - select.iat[i, 8]\n",
    "            select.iat[i, 9] = select.iat[i+1, 9] - select.iat[i, 9]\n",
    "            select.iat[i, 13] = select.iat[i+1, 13] - select.iat[i, 13]\n",
    "            select.iat[i, 14] = select.iat[i+1, 14] - select.iat[i, 14]\n",
    "            select.iat[i, 16] = select.iat[i+1, 16] - select.iat[i, 16]\n",
    "            select.iat[i, 17] = select.iat[i+1, 17] - select.iat[i, 17]\n",
    "            select.iat[i, 18] = select.iat[i+1, 18] - select.iat[i, 18]\n",
    "            select.iat[i, 24] = select.iat[i+1, 24] - select.iat[i, 24]\n",
    "            select.iat[i, 25] = select.iat[i+1, 25] - select.iat[i, 25]\n",
    "            select.iat[i, 26] = select.iat[i+1, 26] - select.iat[i, 26]\n",
    "            select.iat[i, 27] = select.iat[i+1, 27] - select.iat[i, 27]\n",
    "            select.iat[i, 28] = select.iat[i+1, 28] - select.iat[i, 28]\n",
    "            select.iat[i, 29] = select.iat[i+1, 29] - select.iat[i, 29]\n",
    "            select.iat[i, 30] = select.iat[i+1, 30] - select.iat[i, 30]\n",
    "            select.iat[i, 31] = select.iat[i+1, 31] - select.iat[i, 31]\n",
    "            select.iat[i, 32] = select.iat[i+1, 32] - select.iat[i, 32]\n",
    "            df.loc[row_id, :] = select.iloc[i, :]\n",
    "#             print(select[i:i+1])\n",
    "#         print(select_return)\n",
    "    df['class_id'] = class_id\n",
    "#     print(df)\n",
    "#     return df\n",
    "    # 将转化后的数据存储为csv文件\n",
    "    df.to_csv(\"Data/task_data/convert_\" + advertiser_name + \".csv\")\n",
    "    print(\"File: convert_\" + advertiser_name + \" saving complete.\")"
   ]
  },
  {
   "cell_type": "code",
   "execution_count": 76,
   "id": "56211348",
   "metadata": {},
   "outputs": [
    {
     "name": "stdout",
     "output_type": "stream",
     "text": [
      "File: convert_卫仕-千川-自投一户（狗） saving complete.\n"
     ]
    }
   ],
   "source": [
    "advertiser_name = \"卫仕-千川-自投一户（狗）\"\n",
    "class_id = 8\n",
    "Convert2Interval(advertiser_name, class_id)\n",
    "# print(df)"
   ]
  },
  {
   "cell_type": "code",
   "execution_count": 81,
   "id": "fd970c7a",
   "metadata": {},
   "outputs": [],
   "source": [
    "def Integrate():\n",
    "    advertiser_name_list = [\"卫仕-千川-自投\", \"卫仕-千川-邦盟\", \"频度-卫仕小号\", \"卫仕nourse\", \"卫仕-千川-频度\", \"卫仕-千川-TJU\", \"卫仕-千川-自投一户（猫）\", \"卫仕-千川-自投一户（狗）\", \"卫仕-千川-谦行TJU\"]\n",
    "#     df = pd.DataFrame(columns = ['id', 'advertiser_id', 'ad_id', 'time', 'stat_cost','show_cnt', 'ctr', 'cpm_platform', 'click_cnt', 'pay_order_count', 'create_order_amount', 'prepay_and_pay_order_roi', 'prepay_order_count', 'prepay_order_amount', 'create_order_count', 'pay_order_amount', 'create_order_roi', 'dy_follow', 'convert_cnt', 'convert_cost', 'convert_rate', 'dy_share', 'dy_comment', 'dy_like', 'live_pay_order_cost_per_order', 'luban_live_enter_cnt', 'live_watch_one_minute_count', 'live_fans_club_join_cnt', 'luban_live_slidecart_click_cnt', 'luban_live_click_product_cnt', 'luban_live_comment_cnt', 'luban_live_share_cnt', 'luban_live_gift_cnt', 'luban_live_gift_amount', 'create_time', 'update_time', 'class_id'])\n",
    "    class_id = 1\n",
    "    for advertiser_name in advertiser_name_list:\n",
    "        print(\"------------- \" + str(class_id) + \" -------------\")\n",
    "#         pd.concat([df, Convert2Interval(advertiser_name, class_id)])\n",
    "        Convert2Interval(advertiser_name, class_id)\n",
    "        class_id = class_id + 1\n",
    "#     return df"
   ]
  },
  {
   "cell_type": "code",
   "execution_count": 82,
   "id": "55cb7b1e",
   "metadata": {},
   "outputs": [
    {
     "name": "stdout",
     "output_type": "stream",
     "text": [
      "------------- 1 -------------\n",
      "File: convert_卫仕-千川-自投 saving complete.\n",
      "------------- 2 -------------\n",
      "File: convert_卫仕-千川-邦盟 saving complete.\n",
      "------------- 3 -------------\n",
      "File: convert_频度-卫仕小号 saving complete.\n",
      "------------- 4 -------------\n",
      "File: convert_卫仕nourse saving complete.\n",
      "------------- 5 -------------\n",
      "File: convert_卫仕-千川-频度 saving complete.\n",
      "------------- 6 -------------\n",
      "File: convert_卫仕-千川-TJU saving complete.\n",
      "------------- 7 -------------\n",
      "File: convert_卫仕-千川-自投一户（猫） saving complete.\n",
      "------------- 8 -------------\n",
      "File: convert_卫仕-千川-自投一户（狗） saving complete.\n",
      "------------- 9 -------------\n",
      "File: convert_卫仕-千川-谦行TJU saving complete.\n"
     ]
    }
   ],
   "source": [
    "Integrate()"
   ]
  },
  {
   "cell_type": "code",
   "execution_count": null,
   "id": "e1f2a3a1",
   "metadata": {},
   "outputs": [],
   "source": []
  }
 ],
 "metadata": {
  "kernelspec": {
   "display_name": "Python 3 (ipykernel)",
   "language": "python",
   "name": "python3"
  },
  "language_info": {
   "codemirror_mode": {
    "name": "ipython",
    "version": 3
   },
   "file_extension": ".py",
   "mimetype": "text/x-python",
   "name": "python",
   "nbconvert_exporter": "python",
   "pygments_lexer": "ipython3",
   "version": "3.9.7"
  }
 },
 "nbformat": 4,
 "nbformat_minor": 5
}
